{
  "nbformat": 4,
  "nbformat_minor": 0,
  "metadata": {
    "colab": {
      "name": "Session 8 - SkLearn and Classification.ipynb",
      "provenance": [],
      "authorship_tag": "ABX9TyPi49aWwzDjyKDrTyfp2yhM",
      "include_colab_link": true
    },
    "kernelspec": {
      "name": "python3",
      "display_name": "Python 3"
    }
  },
  "cells": [
    {
      "cell_type": "markdown",
      "metadata": {
        "id": "view-in-github",
        "colab_type": "text"
      },
      "source": [
        "<a href=\"https://colab.research.google.com/github/haron1100/MLSummerSchool/blob/master/Session_8_SkLearn_and_Classification.ipynb\" target=\"_parent\"><img src=\"https://colab.research.google.com/assets/colab-badge.svg\" alt=\"Open In Colab\"/></a>"
      ]
    },
    {
      "cell_type": "code",
      "metadata": {
        "id": "Aby-nRaSFq-a",
        "colab_type": "code",
        "colab": {
          "base_uri": "https://localhost:8080/",
          "height": 122
        },
        "outputId": "f7a28994-6435-4fc0-dadf-cbd7592e82fe"
      },
      "source": [
        "from google.colab import drive\n",
        "drive.mount('/content/gdrive')"
      ],
      "execution_count": 1,
      "outputs": [
        {
          "output_type": "stream",
          "text": [
            "Go to this URL in a browser: https://accounts.google.com/o/oauth2/auth?client_id=947318989803-6bn6qk8qdgf4n4g3pfee6491hc0brc4i.apps.googleusercontent.com&redirect_uri=urn%3aietf%3awg%3aoauth%3a2.0%3aoob&scope=email%20https%3a%2f%2fwww.googleapis.com%2fauth%2fdocs.test%20https%3a%2f%2fwww.googleapis.com%2fauth%2fdrive%20https%3a%2f%2fwww.googleapis.com%2fauth%2fdrive.photos.readonly%20https%3a%2f%2fwww.googleapis.com%2fauth%2fpeopleapi.readonly&response_type=code\n",
            "\n",
            "Enter your authorization code:\n",
            "··········\n",
            "Mounted at /content/gdrive\n"
          ],
          "name": "stdout"
        }
      ]
    },
    {
      "cell_type": "code",
      "metadata": {
        "id": "usDXqzR3ODCG",
        "colab_type": "code",
        "colab": {}
      },
      "source": [
        "import pandas as pd\n",
        "import matplotlib.pyplot as plt\n",
        "import numpy as np\n",
        "\n",
        "df = pd.read_csv('/content/gdrive/My Drive/data/BikeSharingDaily.csv')\n",
        "\n",
        "def mse_cost(y, y_pred):\n",
        "    diffs = y-y_pred\n",
        "    squared_diffs = np.square(diffs)\n",
        "    mean_squared_diff = np.mean(squared_diffs)\n",
        "    return mean_squared_diff"
      ],
      "execution_count": 3,
      "outputs": []
    },
    {
      "cell_type": "code",
      "metadata": {
        "id": "TsEwEvftOFTH",
        "colab_type": "code",
        "colab": {}
      },
      "source": [
        "from sklearn.linear_model import LinearRegression"
      ],
      "execution_count": 4,
      "outputs": []
    },
    {
      "cell_type": "code",
      "metadata": {
        "id": "F6vWJQCPPRSM",
        "colab_type": "code",
        "colab": {
          "base_uri": "https://localhost:8080/",
          "height": 51
        },
        "outputId": "7e190c7a-44f5-48df-f309-f32adc7f9cd3"
      },
      "source": [
        "features = [df['temp'], df['hum']]\n",
        "\n",
        "x = np.stack(features, axis=1)\n",
        "y = np.array(df['cnt'])\n",
        "\n",
        "print(x.shape)\n",
        "print(y.shape)\n",
        "\n",
        "train_split = 300\n",
        "\n",
        "x_train = x[:train_split]\n",
        "y_train = y[:train_split]"
      ],
      "execution_count": 13,
      "outputs": [
        {
          "output_type": "stream",
          "text": [
            "(731, 2)\n",
            "(731,)\n"
          ],
          "name": "stdout"
        }
      ]
    },
    {
      "cell_type": "code",
      "metadata": {
        "id": "uMbcxILJPiaD",
        "colab_type": "code",
        "colab": {}
      },
      "source": [
        "model = LinearRegression()"
      ],
      "execution_count": 14,
      "outputs": []
    },
    {
      "cell_type": "code",
      "metadata": {
        "id": "9yD9hJNnPuXc",
        "colab_type": "code",
        "colab": {}
      },
      "source": [
        "model = model.fit(x_train, y_train)"
      ],
      "execution_count": 15,
      "outputs": []
    },
    {
      "cell_type": "code",
      "metadata": {
        "id": "XZzZgo6EP-6z",
        "colab_type": "code",
        "colab": {}
      },
      "source": [
        "y_pred = model.predict(x)"
      ],
      "execution_count": 16,
      "outputs": []
    },
    {
      "cell_type": "code",
      "metadata": {
        "id": "e_PiKbnpQaMc",
        "colab_type": "code",
        "colab": {
          "base_uri": "https://localhost:8080/",
          "height": 282
        },
        "outputId": "4ca7306e-6712-468c-d7f8-49787f4a8189"
      },
      "source": [
        "cost = mse_cost(y, y_pred)\n",
        "print('cost', cost)\n",
        "plt.scatter(df['instant'], y, label=\"label\")\n",
        "plt.scatter(df['instant'], y_pred, label=\"prediction\")\n",
        "plt.legend()\n",
        "plt.show()"
      ],
      "execution_count": 17,
      "outputs": [
        {
          "output_type": "stream",
          "text": [
            "cost 3502025.1938333297\n"
          ],
          "name": "stdout"
        },
        {
          "output_type": "display_data",
          "data": {
            "image/png": "[encoded data removed]",
            "text/plain": [
              "<Figure size 432x288 with 1 Axes>"
            ]
          },
          "metadata": {
            "tags": [],
            "needs_background": "light"
          }
        }
      ]
    },
    {
      "cell_type": "code",
      "metadata": {
        "id": "fKr-zFp3QjVq",
        "colab_type": "code",
        "colab": {}
      },
      "source": [
        "#logistic regression"
      ],
      "execution_count": null,
      "outputs": []
    },
    {
      "cell_type": "code",
      "metadata": {
        "id": "t2m80ispZ9HQ",
        "colab_type": "code",
        "colab": {}
      },
      "source": [
        "df = pd.read_csv('/content/gdrive/My Drive/data/iris.csv')\n",
        "\n",
        "species_to_num = {\n",
        "    'Iris-setosa':0,\n",
        "    'Iris-versicolor':1,\n",
        "    'Iris-virginica':2\n",
        "}\n",
        "\n",
        "num_to_species = {\n",
        "    0:'Iris-setosa',\n",
        "    1:'Iris-versicolor',\n",
        "    2:'Iris-virginica'\n",
        "}\n",
        "\n",
        "df['class'] = df['class'].map(species_to_num)"
      ],
      "execution_count": 55,
      "outputs": []
    },
    {
      "cell_type": "code",
      "metadata": {
        "id": "sBtLJ0pJek6C",
        "colab_type": "code",
        "colab": {}
      },
      "source": [
        "features = [df[df.columns[0]], df[df.columns[1]], df[df.columns[2]], df[df.columns[3]]]\n",
        "\n",
        "x = np.stack(features, axis=1)\n",
        "y = np.array(df['class'])\n",
        "\n",
        "x_train = x[::4]\n",
        "y_train = y[::4]"
      ],
      "execution_count": 78,
      "outputs": []
    },
    {
      "cell_type": "code",
      "metadata": {
        "id": "yP8xEXcwfnA4",
        "colab_type": "code",
        "colab": {}
      },
      "source": [
        "from sklearn.linear_model import LogisticRegression\n",
        "from sklearn.tree import DecisionTreeClassifier"
      ],
      "execution_count": 89,
      "outputs": []
    },
    {
      "cell_type": "code",
      "metadata": {
        "id": "msVHSRgYfqwf",
        "colab_type": "code",
        "colab": {}
      },
      "source": [
        "#model = LogisticRegression()\n",
        "model = DecisionTreeClassifier()\n",
        "model = model.fit(x_train, y_train)\n",
        "y_pred = model.predict(x)"
      ],
      "execution_count": 91,
      "outputs": []
    },
    {
      "cell_type": "code",
      "metadata": {
        "id": "zkR9eBo8f4gU",
        "colab_type": "code",
        "colab": {
          "base_uri": "https://localhost:8080/",
          "height": 34
        },
        "outputId": "de523855-9746-488c-a0b1-3dfcb3a7723e"
      },
      "source": [
        "accuracy = model.score(x, y)\n",
        "print('Accuracy', accuracy)"
      ],
      "execution_count": 92,
      "outputs": [
        {
          "output_type": "stream",
          "text": [
            "Accuracy 0.96\n"
          ],
          "name": "stdout"
        }
      ]
    },
    {
      "cell_type": "code",
      "metadata": {
        "id": "5uOQyoGkgNuY",
        "colab_type": "code",
        "colab": {
          "base_uri": "https://localhost:8080/",
          "height": 300
        },
        "outputId": "8f898cd3-18b3-4caa-9fe6-dfb8630d92ba"
      },
      "source": [
        "groups = df.groupby('class')\n",
        "for name, group in groups:\n",
        "    plt.scatter(group['sepal_length(cm)'], group['sepal_width(cm)'], label=num_to_species[name])\n",
        "plt.xlabel('sepal_length(cm)')\n",
        "plt.ylabel('sepal_width(cm)')\n",
        "plt.legend()"
      ],
      "execution_count": 93,
      "outputs": [
        {
          "output_type": "execute_result",
          "data": {
            "text/plain": [
              "<matplotlib.legend.Legend at 0x7f081013acc0>"
            ]
          },
          "metadata": {
            "tags": []
          },
          "execution_count": 93
        },
        {
          "output_type": "display_data",
          "data": {
            "image/png": "[encoded data removed]",
            "text/plain": [
              "<Figure size 432x288 with 1 Axes>"
            ]
          },
          "metadata": {
            "tags": [],
            "needs_background": "light"
          }
        }
      ]
    },
    {
      "cell_type": "code",
      "metadata": {
        "id": "6xzhL5L7gjy7",
        "colab_type": "code",
        "colab": {
          "base_uri": "https://localhost:8080/",
          "height": 300
        },
        "outputId": "f0845012-f9c4-44e6-cfd6-c10eaa5b695b"
      },
      "source": [
        "for unique_val in np.unique(y):\n",
        "    xs = x[y_pred==unique_val]\n",
        "    plt.scatter(xs[:, 0], xs[:, 1], label=num_to_species[unique_val])\n",
        "\n",
        "plt.xlabel('sepal_length(cm)')\n",
        "plt.ylabel('sepal_width(cm)')\n",
        "plt.legend()"
      ],
      "execution_count": 94,
      "outputs": [
        {
          "output_type": "execute_result",
          "data": {
            "text/plain": [
              "<matplotlib.legend.Legend at 0x7f0810a48be0>"
            ]
          },
          "metadata": {
            "tags": []
          },
          "execution_count": 94
        },
        {
          "output_type": "display_data",
          "data": {
            "image/png": "[encoded data removed]",
            "text/plain": [
              "<Figure size 432x288 with 1 Axes>"
            ]
          },
          "metadata": {
            "tags": [],
            "needs_background": "light"
          }
        }
      ]
    },
    {
      "cell_type": "code",
      "metadata": {
        "id": "Io7ROn4ThvVu",
        "colab_type": "code",
        "colab": {
          "base_uri": "https://localhost:8080/",
          "height": 300
        },
        "outputId": "561bb72c-ee2e-463f-e2d8-f9b36f109116"
      },
      "source": [
        "from sklearn.metrics import plot_confusion_matrix\n",
        "plot_confusion_matrix(model, x, y)"
      ],
      "execution_count": 84,
      "outputs": [
        {
          "output_type": "execute_result",
          "data": {
            "text/plain": [
              "<sklearn.metrics._plot.confusion_matrix.ConfusionMatrixDisplay at 0x7f08101477f0>"
            ]
          },
          "metadata": {
            "tags": []
          },
          "execution_count": 84
        },
        {
          "output_type": "display_data",
          "data": {
            "image/png": "[encoded data removed]",
            "text/plain": [
              "<Figure size 432x288 with 2 Axes>"
            ]
          },
          "metadata": {
            "tags": [],
            "needs_background": "light"
          }
        }
      ]
    },
    {
      "cell_type": "code",
      "metadata": {
        "id": "Wact-voClwWm",
        "colab_type": "code",
        "colab": {}
      },
      "source": [
        "# dataset has 100 pics, 95 of dogs, 5 of cats\n",
        "# our algorithm predicts dog everytime\n",
        "\n",
        "#dog category \n",
        "#precision 95 / 95 + 5 = 0.95\n",
        "#recall 95 / 95 + 0 = 1\n",
        "\n",
        "#cat category\n",
        "#precision 0 / 0 + 0 = 0\n",
        "#recall 0 / 0 + 5 = 0\n",
        "\n",
        "#mean precision = 0.475\n",
        "#mean recall = 0.5\n",
        "#accuracy = 0.95\n",
        "#f1 score is harmonic mean of precision and recall"
      ],
      "execution_count": 85,
      "outputs": []
    },
    {
      "cell_type": "code",
      "metadata": {
        "id": "Rt5GrKMYooLv",
        "colab_type": "code",
        "colab": {
          "base_uri": "https://localhost:8080/",
          "height": 34
        },
        "outputId": "48e2eff4-df9b-48b7-8fcd-0da666ccf194"
      },
      "source": [
        "from sklearn.metrics import f1_score\n",
        "f1 = f1_score(y, y_pred, average=\"weighted\")\n",
        "print('F1 score', f1)"
      ],
      "execution_count": 86,
      "outputs": [
        {
          "output_type": "stream",
          "text": [
            "F1 score 0.9122718223841821\n"
          ],
          "name": "stdout"
        }
      ]
    },
    {
      "cell_type": "code",
      "metadata": {
        "id": "YzVym3O7o4xR",
        "colab_type": "code",
        "colab": {}
      },
      "source": [
        ""
      ],
      "execution_count": null,
      "outputs": []
    }
  ]
}