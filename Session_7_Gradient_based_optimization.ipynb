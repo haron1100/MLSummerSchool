{
  "nbformat": 4,
  "nbformat_minor": 0,
  "metadata": {
    "colab": {
      "name": "Session 7 - Gradient based optimization.ipynb",
      "provenance": [],
      "collapsed_sections": [],
      "authorship_tag": "ABX9TyO2SQuaHzGH8o8Aqy2un2/R",
      "include_colab_link": true
    },
    "kernelspec": {
      "name": "python3",
      "display_name": "Python 3"
    }
  },
  "cells": [
    {
      "cell_type": "markdown",
      "metadata": {
        "id": "view-in-github",
        "colab_type": "text"
      },
      "source": [
        "<a href=\"https://colab.research.google.com/github/haron1100/MLSummerSchool/blob/master/Session_7_Gradient_based_optimization.ipynb\" target=\"_parent\"><img src=\"https://colab.research.google.com/assets/colab-badge.svg\" alt=\"Open In Colab\"/></a>"
      ]
    },
    {
      "cell_type": "code",
      "metadata": {
        "id": "fc0t2NFdSpHI",
        "colab_type": "code",
        "colab": {
          "base_uri": "https://localhost:8080/",
          "height": 122
        },
        "outputId": "52a8e5be-d148-4a70-eb3f-9b4ed6005438"
      },
      "source": [
        "from google.colab import drive\n",
        "drive.mount('/content/gdrive')"
      ],
      "execution_count": 1,
      "outputs": [
        {
          "output_type": "stream",
          "text": [
            "Go to this URL in a browser: https://accounts.google.com/o/oauth2/auth?client_id=947318989803-6bn6qk8qdgf4n4g3pfee6491hc0brc4i.apps.googleusercontent.com&redirect_uri=urn%3aietf%3awg%3aoauth%3a2.0%3aoob&scope=email%20https%3a%2f%2fwww.googleapis.com%2fauth%2fdocs.test%20https%3a%2f%2fwww.googleapis.com%2fauth%2fdrive%20https%3a%2f%2fwww.googleapis.com%2fauth%2fdrive.photos.readonly%20https%3a%2f%2fwww.googleapis.com%2fauth%2fpeopleapi.readonly&response_type=code\n",
            "\n",
            "Enter your authorization code:\n",
            "··········\n",
            "Mounted at /content/gdrive\n"
          ],
          "name": "stdout"
        }
      ]
    },
    {
      "cell_type": "code",
      "metadata": {
        "id": "2x0NcfFnpRzl",
        "colab_type": "code",
        "colab": {}
      },
      "source": [
        "import pandas as pd\n",
        "import matplotlib.pyplot as plt\n",
        "import numpy as np\n",
        "\n",
        "df = pd.read_csv('/content/gdrive/My Drive/data/BikeSharingDaily.csv')"
      ],
      "execution_count": 2,
      "outputs": []
    },
    {
      "cell_type": "code",
      "metadata": {
        "id": "OIUTAojvpU_b",
        "colab_type": "code",
        "colab": {}
      },
      "source": [
        "def mse_cost(y, y_pred):\n",
        "    diffs = y-y_pred\n",
        "    squared_diffs = np.square(diffs)\n",
        "    mean_squared_diff = np.mean(squared_diffs)\n",
        "    return mean_squared_diff"
      ],
      "execution_count": 3,
      "outputs": []
    },
    {
      "cell_type": "code",
      "metadata": {
        "id": "IzksayGBpaIQ",
        "colab_type": "code",
        "colab": {}
      },
      "source": [
        "features = [df['temp'], df['hum'], df['windspeed'], df['numpigeons']]\n",
        "x = np.stack(features, axis=1)\n",
        "y = np.array(df['cnt'])\n",
        "\n",
        "def normalize(x):\n",
        "    xnorm= np.copy(x)\n",
        "    for i in range(x.shape[1]):\n",
        "        this_column = x[:, i]\n",
        "        my_mean, my_std = np.mean(this_column), np.std(this_column)\n",
        "        xnorm[:, i] = (this_column-my_mean)/my_std\n",
        "    return xnorm\n",
        "x_norm = normalize(x)\n",
        "\n",
        "y_mean, y_std = np.mean(y), np.std(y) #output normalization\n",
        "y_norm = (y-y_mean)/y_std# normalized version of y"
      ],
      "execution_count": 37,
      "outputs": []
    },
    {
      "cell_type": "code",
      "metadata": {
        "id": "GX9rnWjkqRo5",
        "colab_type": "code",
        "colab": {}
      },
      "source": [
        "#linear model\n",
        "#y = m * x + b\n",
        "def gradient_descent(x, y, n_iterations=100, learning_rate=0.003):\n",
        "    #randomly initialise model parameters\n",
        "    m = np.random.randn(x.shape[1])\n",
        "    b = np.random.randn()\n",
        "    for i in range(n_iterations): #for each iteration\n",
        "        y_pred = np.zeros(len(y))\n",
        "        for j in range(x.shape[1]):\n",
        "            y_pred += x[:, j] * m[j]\n",
        "        y_pred += b\n",
        "        \n",
        "        c = mse_cost(y, y_pred)#calculate the cost of the prediction\n",
        "        \n",
        "        #for each parameter\n",
        "        for j in range(x.shape[1]):\n",
        "            m_grad = 2*np.mean( (y_pred-y) * x[:, j] ) #calculate the derivative of the cost w.r.t the parameter\n",
        "            m[j] -= learning_rate*m_grad#update the value of the parameter by taking a step opposite of the gradient, proportional to the learning rate\n",
        "\n",
        "        b_grad = 2*np.mean( y_pred-y ) #calculate the derivative of the cost w.r.t the parameter\n",
        "        b -= learning_rate*b_grad#update the value of the parameter by taking a step opposite of the gradient, proportional to the learning rate\n",
        "\n",
        "    return m, b"
      ],
      "execution_count": 38,
      "outputs": []
    },
    {
      "cell_type": "code",
      "metadata": {
        "id": "O7PfhCxPrRrm",
        "colab_type": "code",
        "colab": {
          "base_uri": "https://localhost:8080/",
          "height": 299
        },
        "outputId": "72bf04d9-1694-4d49-ffa5-9a134da567ec"
      },
      "source": [
        "m, b = gradient_descent(x_norm, y_norm, 1000, 0.3)\n",
        "\n",
        "y_pred = np.zeros(len(y))\n",
        "for j in range(x.shape[1]):\n",
        "    y_pred += x_norm[:, j] * m[j]\n",
        "y_pred += b\n",
        "\n",
        "y_pred = (y_pred*y_std) + y_mean\n",
        "\n",
        "cost = mse_cost(y, y_pred)\n",
        "print('found parameters m:',m , 'b:', b)\n",
        "print('cost', cost)\n",
        "plt.scatter(df['instant'], y, label=\"label\")\n",
        "plt.scatter(df['instant'], y_pred, label=\"prediction\")\n",
        "plt.legend()\n",
        "plt.show()"
      ],
      "execution_count": 40,
      "outputs": [
        {
          "output_type": "stream",
          "text": [
            "found parameters m: [ 0.62625396 -0.2169839  -0.19160858 -0.0231001 ] b: -6.77469655221227e-17\n",
            "cost 2018818.092550066\n"
          ],
          "name": "stdout"
        },
        {
          "output_type": "display_data",
          "data": {
            "image/png": "[encoded data removed]",
            "text/plain": [
              "<Figure size 432x288 with 1 Axes>"
            ]
          },
          "metadata": {
            "tags": [],
            "needs_background": "light"
          }
        }
      ]
    },
    {
      "cell_type": "code",
      "metadata": {
        "id": "TpKPfsvX0yo_",
        "colab_type": "code",
        "colab": {}
      },
      "source": [
        ""
      ],
      "execution_count": 36,
      "outputs": []
    }
  ]
}