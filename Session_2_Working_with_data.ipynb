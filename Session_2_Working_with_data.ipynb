{
  "nbformat": 4,
  "nbformat_minor": 0,
  "metadata": {
    "colab": {
      "name": "Session 2 - Working with data.ipynb",
      "provenance": [],
      "authorship_tag": "ABX9TyMVW8spfqsR+DprDoJCmhRr",
      "include_colab_link": true
    },
    "kernelspec": {
      "name": "python3",
      "display_name": "Python 3"
    }
  },
  "cells": [
    {
      "cell_type": "markdown",
      "metadata": {
        "id": "view-in-github",
        "colab_type": "text"
      },
      "source": [
        "<a href=\"https://colab.research.google.com/github/haron1100/MLSummerSchool/blob/master/Session_2_Working_with_data.ipynb\" target=\"_parent\"><img src=\"https://colab.research.google.com/assets/colab-badge.svg\" alt=\"Open In Colab\"/></a>"
      ]
    },
    {
      "cell_type": "code",
      "metadata": {
        "id": "jPhAqgdd6p9n",
        "colab_type": "code",
        "colab": {
          "base_uri": "https://localhost:8080/",
          "height": 121
        },
        "outputId": "2fe03c06-73dd-41db-a98d-7d10544bcce1"
      },
      "source": [
        "from google.colab import drive\n",
        "drive.mount('/content/gdrive')"
      ],
      "execution_count": 1,
      "outputs": [
        {
          "output_type": "stream",
          "text": [
            "Go to this URL in a browser: https://accounts.google.com/o/oauth2/auth?client_id=947318989803-6bn6qk8qdgf4n4g3pfee6491hc0brc4i.apps.googleusercontent.com&redirect_uri=urn%3aietf%3awg%3aoauth%3a2.0%3aoob&response_type=code&scope=email%20https%3a%2f%2fwww.googleapis.com%2fauth%2fdocs.test%20https%3a%2f%2fwww.googleapis.com%2fauth%2fdrive%20https%3a%2f%2fwww.googleapis.com%2fauth%2fdrive.photos.readonly%20https%3a%2f%2fwww.googleapis.com%2fauth%2fpeopleapi.readonly\n",
            "\n",
            "Enter your authorization code:\n",
            "··········\n",
            "Mounted at /content/gdrive\n"
          ],
          "name": "stdout"
        }
      ]
    },
    {
      "cell_type": "code",
      "metadata": {
        "id": "PvvZDARoV9Ie",
        "colab_type": "code",
        "colab": {}
      },
      "source": [
        "import pandas as pd\n",
        "import matplotlib.pyplot as plt"
      ],
      "execution_count": 7,
      "outputs": []
    },
    {
      "cell_type": "code",
      "metadata": {
        "id": "iCimQx-6XC2-",
        "colab_type": "code",
        "colab": {}
      },
      "source": [
        "df = pd.read_csv('/content/gdrive/My Drive/data/AutoInsurSweden.csv')"
      ],
      "execution_count": 5,
      "outputs": []
    },
    {
      "cell_type": "code",
      "metadata": {
        "id": "I9rwZzCuYaGn",
        "colab_type": "code",
        "colab": {
          "base_uri": "https://localhost:8080/",
          "height": 118
        },
        "outputId": "7950bf1b-d45f-48b3-9cbb-6d4521351a9b"
      },
      "source": [
        "print(df.head())"
      ],
      "execution_count": 6,
      "outputs": [
        {
          "output_type": "stream",
          "text": [
            "   number_of_claims  total_payment(thousands of Swedish Kronor)\n",
            "0               108                                       392.5\n",
            "1                19                                         5.2\n",
            "2                13                                        15.7\n",
            "3               124                                       422.2\n",
            "4                40                                       119.4\n"
          ],
          "name": "stdout"
        }
      ]
    },
    {
      "cell_type": "code",
      "metadata": {
        "id": "cQVoDWW2bpob",
        "colab_type": "code",
        "colab": {
          "base_uri": "https://localhost:8080/",
          "height": 296
        },
        "outputId": "0636e5c4-a29f-4485-88dd-a3c8577c1157"
      },
      "source": [
        "plt.scatter(df['number_of_claims'], df['total_payment(thousands of Swedish Kronor)'])\n",
        "plt.xlabel('number_of_claims')\n",
        "plt.ylabel('total_payment(thousands of Swedish Kronor)')\n",
        "plt.title('Insurance data')\n",
        "plt.show()"
      ],
      "execution_count": 13,
      "outputs": [
        {
          "output_type": "display_data",
          "data": {
            "image/png": "[encoded data removed]",
            "text/plain": [
              "<Figure size 432x288 with 1 Axes>"
            ]
          },
          "metadata": {
            "tags": [],
            "needs_background": "light"
          }
        }
      ]
    },
    {
      "cell_type": "code",
      "metadata": {
        "id": "nTSuhK1_b-oA",
        "colab_type": "code",
        "colab": {}
      },
      "source": [
        "df = pd.read_csv('/content/gdrive/My Drive/data/iris.csv')"
      ],
      "execution_count": 35,
      "outputs": []
    },
    {
      "cell_type": "code",
      "metadata": {
        "id": "yBJdW7bbc5hu",
        "colab_type": "code",
        "colab": {
          "base_uri": "https://localhost:8080/",
          "height": 289
        },
        "outputId": "12b25053-d61e-4504-bfc4-82aa0d7183ee"
      },
      "source": [
        "print(df.head())\n",
        "print()\n",
        "print(df.columns)\n",
        "print()\n",
        "print(df['class'].unique())\n",
        "print()\n",
        "print('number of datapoints', len(df))"
      ],
      "execution_count": 36,
      "outputs": [
        {
          "output_type": "stream",
          "text": [
            "   sepal_length(cm)  sepal_width(cm)  ...  petal_width(cm)        class\n",
            "0               5.1              3.5  ...              0.2  Iris-setosa\n",
            "1               4.9              3.0  ...              0.2  Iris-setosa\n",
            "2               4.7              3.2  ...              0.2  Iris-setosa\n",
            "3               4.6              3.1  ...              0.2  Iris-setosa\n",
            "4               5.0              3.6  ...              0.2  Iris-setosa\n",
            "\n",
            "[5 rows x 5 columns]\n",
            "\n",
            "Index(['sepal_length(cm)', 'sepal_width(cm)', 'petal_length(cm)',\n",
            "       'petal_width(cm)', 'class'],\n",
            "      dtype='object')\n",
            "\n",
            "['Iris-setosa' 'Iris-versicolor' 'Iris-virginica']\n",
            "\n",
            "number of datapoints 150\n"
          ],
          "name": "stdout"
        }
      ]
    },
    {
      "cell_type": "code",
      "metadata": {
        "id": "V9Ju8o5gc7VL",
        "colab_type": "code",
        "colab": {
          "base_uri": "https://localhost:8080/",
          "height": 119
        },
        "outputId": "9689b8f9-6d4b-4e24-ab83-24f4ef29a060"
      },
      "source": [
        "species_to_num = {\n",
        "    'Iris-setosa':0,\n",
        "    'Iris-versicolor': 1,\n",
        "    'Iris-virginica': 2\n",
        "}\n",
        "num_to_species = {\n",
        "    0: 'Iris-setosa',\n",
        "    1: 'Iris-versicolor',\n",
        "    2: 'Iris-virginica'\n",
        "}\n",
        "\n",
        "if df['class'].unique()[0] == 'Iris-setosa':\n",
        "    df['class'] = df['class'].map(species_to_num)\n",
        "\n",
        "print(df.head())"
      ],
      "execution_count": 43,
      "outputs": [
        {
          "output_type": "stream",
          "text": [
            "   sepal_length(cm)  sepal_width(cm)  petal_length(cm)  petal_width(cm)  class\n",
            "0               5.1              3.5               1.4              0.2      0\n",
            "1               4.9              3.0               1.4              0.2      0\n",
            "2               4.7              3.2               1.3              0.2      0\n",
            "3               4.6              3.1               1.5              0.2      0\n",
            "4               5.0              3.6               1.4              0.2      0\n"
          ],
          "name": "stdout"
        }
      ]
    },
    {
      "cell_type": "code",
      "metadata": {
        "id": "d3KoE9QNeWtE",
        "colab_type": "code",
        "colab": {
          "base_uri": "https://localhost:8080/",
          "height": 295
        },
        "outputId": "c0879e2a-76e3-4858-b760-fc6009b38d76"
      },
      "source": [
        "## plot sepal length against class/species\n",
        "plt.scatter(df['sepal_length(cm)'], df['class'])\n",
        "plt.xlabel('sepal length(cm)')\n",
        "plt.ylabel('class')\n",
        "plt.title('how sepal length varies with class')\n",
        "plt.show()"
      ],
      "execution_count": 44,
      "outputs": [
        {
          "output_type": "display_data",
          "data": {
            "image/png": "[encoded data removed]",
            "text/plain": [
              "<Figure size 432x288 with 1 Axes>"
            ]
          },
          "metadata": {
            "tags": [],
            "needs_background": "light"
          }
        }
      ]
    },
    {
      "cell_type": "code",
      "metadata": {
        "id": "kN3K1aRajSex",
        "colab_type": "code",
        "colab": {
          "base_uri": "https://localhost:8080/",
          "height": 282
        },
        "outputId": "045e68ea-68f6-4afc-998c-c41e763fb0d7"
      },
      "source": [
        "## plot septal length and width against eachother, with different species in different colours\n",
        "groups = df.groupby('class')\n",
        "for unique_val, group in groups:\n",
        "    plt.scatter(group['sepal_length(cm)'], group['sepal_width(cm)'], label=num_to_species[unique_val])\n",
        "plt.xlabel('sepal length(cm)')\n",
        "plt.ylabel('sepal width(cm)')\n",
        "plt.legend()\n",
        "plt.show()"
      ],
      "execution_count": 52,
      "outputs": [
        {
          "output_type": "display_data",
          "data": {
            "image/png": "[encoded data removed]",
            "text/plain": [
              "<Figure size 432x288 with 1 Axes>"
            ]
          },
          "metadata": {
            "tags": [],
            "needs_background": "light"
          }
        }
      ]
    },
    {
      "cell_type": "code",
      "metadata": {
        "id": "aNBCeSyhkHYs",
        "colab_type": "code",
        "colab": {}
      },
      "source": [
        ""
      ],
      "execution_count": null,
      "outputs": []
    }
  ]
}