{
  "nbformat": 4,
  "nbformat_minor": 0,
  "metadata": {
    "colab": {
      "name": "Session 4 - The Machine Learning problem.ipynb",
      "provenance": [],
      "authorship_tag": "ABX9TyOpGx7fnNguKP0Wc2VIUMEi",
      "include_colab_link": true
    },
    "kernelspec": {
      "name": "python3",
      "display_name": "Python 3"
    }
  },
  "cells": [
    {
      "cell_type": "markdown",
      "metadata": {
        "id": "view-in-github",
        "colab_type": "text"
      },
      "source": [
        "<a href=\"https://colab.research.google.com/github/haron1100/MLSummerSchool/blob/master/Session_4_The_Machine_Learning_problem.ipynb\" target=\"_parent\"><img src=\"https://colab.research.google.com/assets/colab-badge.svg\" alt=\"Open In Colab\"/></a>"
      ]
    },
    {
      "cell_type": "code",
      "metadata": {
        "id": "w0zXwbuA7ka3",
        "colab_type": "code",
        "colab": {
          "base_uri": "https://localhost:8080/",
          "height": 122
        },
        "outputId": "92d05d01-a65f-40c9-e854-293888ccc49a"
      },
      "source": [
        "from google.colab import drive\n",
        "drive.mount('/content/gdrive')"
      ],
      "execution_count": null,
      "outputs": [
        {
          "output_type": "stream",
          "text": [
            "Go to this URL in a browser: https://accounts.google.com/o/oauth2/auth?client_id=947318989803-6bn6qk8qdgf4n4g3pfee6491hc0brc4i.apps.googleusercontent.com&redirect_uri=urn%3aietf%3awg%3aoauth%3a2.0%3aoob&response_type=code&scope=email%20https%3a%2f%2fwww.googleapis.com%2fauth%2fdocs.test%20https%3a%2f%2fwww.googleapis.com%2fauth%2fdrive%20https%3a%2f%2fwww.googleapis.com%2fauth%2fdrive.photos.readonly%20https%3a%2f%2fwww.googleapis.com%2fauth%2fpeopleapi.readonly\n",
            "\n",
            "Enter your authorization code:\n",
            "··········\n",
            "Mounted at /content/gdrive\n"
          ],
          "name": "stdout"
        }
      ]
    },
    {
      "cell_type": "code",
      "metadata": {
        "id": "JOXEedVPP0nl",
        "colab_type": "code",
        "colab": {}
      },
      "source": [
        "import pandas as pd\n",
        "import matplotlib.pyplot as plt\n",
        "import numpy as np\n",
        "\n",
        "df = pd.read_csv('/content/gdrive/My Drive/data/AutoInsurSweden.csv')"
      ],
      "execution_count": null,
      "outputs": []
    },
    {
      "cell_type": "code",
      "metadata": {
        "id": "Xr6fExsXQfuB",
        "colab_type": "code",
        "colab": {
          "base_uri": "https://localhost:8080/",
          "height": 119
        },
        "outputId": "658dcfe3-6db6-4d7d-a52f-1203d4d66e1d"
      },
      "source": [
        "print(df.head())"
      ],
      "execution_count": null,
      "outputs": [
        {
          "output_type": "stream",
          "text": [
            "   number_of_claims  total_payment(thousands of Swedish Kronor)\n",
            "0               108                                       392.5\n",
            "1                19                                         5.2\n",
            "2                13                                        15.7\n",
            "3               124                                       422.2\n",
            "4                40                                       119.4\n"
          ],
          "name": "stdout"
        }
      ]
    },
    {
      "cell_type": "code",
      "metadata": {
        "id": "Jkm0PIj8RVL9",
        "colab_type": "code",
        "colab": {}
      },
      "source": [
        "x = np.array(df['number_of_claims'])\n",
        "y = np.array(df[df.columns[1]])"
      ],
      "execution_count": null,
      "outputs": []
    },
    {
      "cell_type": "code",
      "metadata": {
        "id": "PWuQAoAcRefx",
        "colab_type": "code",
        "colab": {}
      },
      "source": [
        "def predict(x):\n",
        "    return 3.7*x##prediction for y"
      ],
      "execution_count": null,
      "outputs": []
    },
    {
      "cell_type": "code",
      "metadata": {
        "id": "oae73tuvZxAw",
        "colab_type": "code",
        "colab": {}
      },
      "source": [
        "#mean squared error\n",
        "#mse =  1/n * sum_from_0_to_n( (y_i-y_pred_i)^2 )\n",
        "def mse_cost(y, y_pred):\n",
        "    diffs = y-y_pred\n",
        "    squared_diffs = np.square(diffs)\n",
        "    mean_squared_diff = np.mean(squared_diffs)\n",
        "    return mean_squared_diff"
      ],
      "execution_count": null,
      "outputs": []
    },
    {
      "cell_type": "code",
      "metadata": {
        "id": "kUvYKU8SRxcu",
        "colab_type": "code",
        "colab": {
          "base_uri": "https://localhost:8080/",
          "height": 282
        },
        "outputId": "3916c42c-33e0-4380-aa69-c368e7548061"
      },
      "source": [
        "y_pred = predict(x)\n",
        "plt.scatter(x, y)\n",
        "plt.plot(x, y_pred)\n",
        "## plot y against x\n",
        "## use the predict function to y_pred, then plot y_pred against x - on the above plot so you can compare the y against y_pred"
      ],
      "execution_count": null,
      "outputs": [
        {
          "output_type": "execute_result",
          "data": {
            "text/plain": [
              "[<matplotlib.lines.Line2D at 0x7fbe07fddd30>]"
            ]
          },
          "metadata": {
            "tags": []
          },
          "execution_count": 29
        },
        {
          "output_type": "display_data",
          "data": {
            "image/png": "[encoded data removed]",
            "text/plain": [
              "<Figure size 432x288 with 1 Axes>"
            ]
          },
          "metadata": {
            "tags": [],
            "needs_background": "light"
          }
        }
      ]
    },
    {
      "cell_type": "code",
      "metadata": {
        "id": "iSvHKi_2Zru5",
        "colab_type": "code",
        "colab": {
          "base_uri": "https://localhost:8080/",
          "height": 34
        },
        "outputId": "e7dd6771-b07c-4f05-b533-2f51db7f28bd"
      },
      "source": [
        "print(mse_cost(y, y_pred))"
      ],
      "execution_count": null,
      "outputs": [
        {
          "output_type": "stream",
          "text": [
            "1533.3684126984126\n"
          ],
          "name": "stdout"
        }
      ]
    },
    {
      "cell_type": "code",
      "metadata": {
        "id": "IzI1yji7dWMa",
        "colab_type": "code",
        "colab": {}
      },
      "source": [
        "def random_search(n_iterations): #an optimiser\n",
        "    lowest_cost = float(\"inf\") #lowest cost ive seen thus far\n",
        "    for i in range(n_iterations):#in a loop, until we do n_iterations\n",
        "        m = np.random.randn()*5 #randomly sample values for m\n",
        "        b = np.random.randn()*5 #randomly sample values for b\n",
        "        y_pred = m*x + b #make a prediction using m and b #equation for a straight line\n",
        "        cost = mse_cost(y, y_pred) #calculate the cost of that prediction\n",
        "        if cost<lowest_cost: #if its the lowest cost we have achieved thus far\n",
        "            best_m = m #store the values for this m in a a variable\n",
        "            best_b = b #store the values for this b in a a variable\n",
        "            lowest_cost = cost #set the lowest cost to this new lowest cost\n",
        "    return best_m, best_b #return best m and b values    "
      ],
      "execution_count": null,
      "outputs": []
    },
    {
      "cell_type": "code",
      "metadata": {
        "id": "7OsuHxy7mPQG",
        "colab_type": "code",
        "colab": {
          "base_uri": "https://localhost:8080/",
          "height": 316
        },
        "outputId": "7d14b4d2-db2c-477e-c398-6c2a9daf78a5"
      },
      "source": [
        "m, b = random_search(1000)\n",
        "y_pred = m*x+b\n",
        "cost = mse_cost(y, y_pred)\n",
        "print('found parameters m:',m , 'b:', b)\n",
        "print('cost', cost)\n",
        "plt.scatter(x, y)\n",
        "plt.plot(x, y_pred)"
      ],
      "execution_count": null,
      "outputs": [
        {
          "output_type": "stream",
          "text": [
            "found parameters m: 3.537607620780629 b: 10.972336542198871\n",
            "cost 1365.558911002206\n"
          ],
          "name": "stdout"
        },
        {
          "output_type": "execute_result",
          "data": {
            "text/plain": [
              "[<matplotlib.lines.Line2D at 0x7fbe077e2e80>]"
            ]
          },
          "metadata": {
            "tags": []
          },
          "execution_count": 61
        },
        {
          "output_type": "display_data",
          "data": {
            "image/png": "[encoded data removed]",
            "text/plain": [
              "<Figure size 432x288 with 1 Axes>"
            ]
          },
          "metadata": {
            "tags": [],
            "needs_background": "light"
          }
        }
      ]
    },
    {
      "cell_type": "code",
      "metadata": {
        "id": "-r9oX2T_moxc",
        "colab_type": "code",
        "colab": {}
      },
      "source": [
        ""
      ],
      "execution_count": null,
      "outputs": []
    }
  ]
}