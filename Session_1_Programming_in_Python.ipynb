{
  "nbformat": 4,
  "nbformat_minor": 0,
  "metadata": {
    "colab": {
      "name": "Session 1 - Programming in Python.ipynb",
      "provenance": [],
      "collapsed_sections": [],
      "authorship_tag": "ABX9TyMozo6ZfCRz4k8jZprIIKWX",
      "include_colab_link": true
    },
    "kernelspec": {
      "name": "python3",
      "display_name": "Python 3"
    }
  },
  "cells": [
    {
      "cell_type": "markdown",
      "metadata": {
        "id": "view-in-github",
        "colab_type": "text"
      },
      "source": [
        "<a href=\"https://colab.research.google.com/github/haron1100/MLSummerSchool/blob/master/Session_1_Programming_in_Python.ipynb\" target=\"_parent\"><img src=\"https://colab.research.google.com/assets/colab-badge.svg\" alt=\"Open In Colab\"/></a>"
      ]
    },
    {
      "cell_type": "code",
      "metadata": {
        "id": "rCFuVIG-GzwW",
        "colab_type": "code",
        "colab": {
          "base_uri": "https://localhost:8080/",
          "height": 50
        },
        "outputId": "eeb7a21b-010c-4288-91e8-80bee35e70c8"
      },
      "source": [
        "print('Hello world')\n",
        "print('this is an input')"
      ],
      "execution_count": 2,
      "outputs": [
        {
          "output_type": "stream",
          "text": [
            "Hello world\n",
            "this is an input\n"
          ],
          "name": "stdout"
        }
      ]
    },
    {
      "cell_type": "code",
      "metadata": {
        "id": "ib83u2mbHS4l",
        "colab_type": "code",
        "colab": {
          "base_uri": "https://localhost:8080/",
          "height": 101
        },
        "outputId": "043e8300-a011-42fa-f108-a794bb5e91fa"
      },
      "source": [
        "print(1+1)\n",
        "print(2*5)\n",
        "print(10/5)\n",
        "print('this is the third power of two', 2**3)\n",
        "print(\"print(sometext)\")"
      ],
      "execution_count": 8,
      "outputs": [
        {
          "output_type": "stream",
          "text": [
            "2\n",
            "10\n",
            "2.0\n",
            "this is the third power of two 8\n",
            "print(sometext)\n"
          ],
          "name": "stdout"
        }
      ]
    },
    {
      "cell_type": "code",
      "metadata": {
        "id": "9Qo6vuGHIwPl",
        "colab_type": "code",
        "colab": {
          "base_uri": "https://localhost:8080/",
          "height": 67
        },
        "outputId": "1903d601-ee9d-4e64-ca7b-df7190e27965"
      },
      "source": [
        "a = 10 #whole numbers variables are called integers, also shortened to int\n",
        "b = 13.5 #decimal numbers are called floats\n",
        "print(a*b)\n",
        "print('a is', type(a))\n",
        "print('b is', type(b))"
      ],
      "execution_count": 11,
      "outputs": [
        {
          "output_type": "stream",
          "text": [
            "135.0\n",
            "a is <class 'int'>\n",
            "b is <class 'float'>\n"
          ],
          "name": "stdout"
        }
      ]
    },
    {
      "cell_type": "code",
      "metadata": {
        "id": "zECE28koJes4",
        "colab_type": "code",
        "colab": {
          "base_uri": "https://localhost:8080/",
          "height": 246
        },
        "outputId": "dbf050ac-2bc2-48d6-b834-3daf1a3f4306"
      },
      "source": [
        "mystring = \"this is a sentence\" #this variable has type string\n",
        "numfive = \"5\" #this variable has type string\n",
        "print(mystring+mystring)\n",
        "print(numfive+numfive)\n",
        "print(numfive*3) #you can multiply a string by a integer\n",
        "print(numfive*3.8) #you cannot multiply a string by a float"
      ],
      "execution_count": 20,
      "outputs": [
        {
          "output_type": "stream",
          "text": [
            "this is a sentencethis is a sentence\n",
            "55\n",
            "555\n"
          ],
          "name": "stdout"
        },
        {
          "output_type": "error",
          "ename": "TypeError",
          "evalue": "ignored",
          "traceback": [
            "\u001b[0;31m---------------------------------------------------------------------------\u001b[0m",
            "\u001b[0;31mTypeError\u001b[0m                                 Traceback (most recent call last)",
            "\u001b[0;32m<ipython-input-20-d1ed56d8ac1f>\u001b[0m in \u001b[0;36m<module>\u001b[0;34m()\u001b[0m\n\u001b[1;32m      4\u001b[0m \u001b[0mprint\u001b[0m\u001b[0;34m(\u001b[0m\u001b[0mnumfive\u001b[0m\u001b[0;34m+\u001b[0m\u001b[0mnumfive\u001b[0m\u001b[0;34m)\u001b[0m\u001b[0;34m\u001b[0m\u001b[0;34m\u001b[0m\u001b[0m\n\u001b[1;32m      5\u001b[0m \u001b[0mprint\u001b[0m\u001b[0;34m(\u001b[0m\u001b[0mnumfive\u001b[0m\u001b[0;34m*\u001b[0m\u001b[0;36m3\u001b[0m\u001b[0;34m)\u001b[0m \u001b[0;31m#you can multiply a string by a integer\u001b[0m\u001b[0;34m\u001b[0m\u001b[0;34m\u001b[0m\u001b[0m\n\u001b[0;32m----> 6\u001b[0;31m \u001b[0mprint\u001b[0m\u001b[0;34m(\u001b[0m\u001b[0mnumfive\u001b[0m\u001b[0;34m*\u001b[0m\u001b[0;36m3.8\u001b[0m\u001b[0;34m)\u001b[0m \u001b[0;31m#you cannot multiply a string by a float\u001b[0m\u001b[0;34m\u001b[0m\u001b[0;34m\u001b[0m\u001b[0m\n\u001b[0m",
            "\u001b[0;31mTypeError\u001b[0m: can't multiply sequence by non-int of type 'float'"
          ]
        }
      ]
    },
    {
      "cell_type": "code",
      "metadata": {
        "id": "OlGaOiUlKVOS",
        "colab_type": "code",
        "colab": {
          "base_uri": "https://localhost:8080/",
          "height": 168
        },
        "outputId": "75d10bf3-19d6-480f-c107-cdc1e45444ab"
      },
      "source": [
        "mealsperday = [3, 5, 2, 4, 3, 5, 3] #data type is list\n",
        "print(mealsperday)\n",
        "print(mealsperday[0]) #indexing, python starts counting at 0\n",
        "print(mealsperday[2])\n",
        "print(mealsperday[:3]) #if i want first three items. Inclusive of first index and exclusive of second index\n",
        "print(mealsperday[2:5])\n",
        "print(mealsperday[:])\n",
        "print(mealsperday[-1])\n",
        "print(mealsperday[1:-1])\n",
        "print('length of list is', len(mealsperday))"
      ],
      "execution_count": 31,
      "outputs": [
        {
          "output_type": "stream",
          "text": [
            "[3, 5, 2, 4, 3, 5, 3]\n",
            "3\n",
            "2\n",
            "[3, 5, 2]\n",
            "[2, 4, 3]\n",
            "[3, 5, 2, 4, 3, 5, 3]\n",
            "3\n",
            "[5, 2, 4, 3, 5]\n",
            "length of list is 7\n"
          ],
          "name": "stdout"
        }
      ]
    },
    {
      "cell_type": "code",
      "metadata": {
        "id": "zphXBcPjNK2o",
        "colab_type": "code",
        "colab": {
          "base_uri": "https://localhost:8080/",
          "height": 50
        },
        "outputId": "76b14938-1e30-4a62-afda-c004e365375e"
      },
      "source": [
        "#dictionary is a mapping from keys to values\n",
        "#letterpos dictionary maps from letters to their position in the alphabet\n",
        "letterpos = {'a':1, 'b':2, 'c':3, 'd':4} #the letters are the keys, and the numbers are the values\n",
        "print(letterpos)\n",
        "print(letterpos['a'])"
      ],
      "execution_count": 35,
      "outputs": [
        {
          "output_type": "stream",
          "text": [
            "{'a': 1, 'b': 2, 'c': 3, 'd': 4}\n",
            "1\n"
          ],
          "name": "stdout"
        }
      ]
    },
    {
      "cell_type": "code",
      "metadata": {
        "id": "vlMN9wRAPVLd",
        "colab_type": "code",
        "colab": {}
      },
      "source": [
        "did_i_eat = False #boolean data type\n",
        "can_i_code = True"
      ],
      "execution_count": 37,
      "outputs": []
    },
    {
      "cell_type": "code",
      "metadata": {
        "id": "XGDj_J-DP0tv",
        "colab_type": "code",
        "colab": {
          "base_uri": "https://localhost:8080/",
          "height": 151
        },
        "outputId": "323626e3-184d-44fc-c4e3-9d46a20d8bc4"
      },
      "source": [
        "#operators\n",
        "a = 10 #single equals is the assignment operator, we use it to set the value of a variable\n",
        "b = 20\n",
        "c = 10\n",
        "\n",
        "d='astring'\n",
        "e='secondstring'\n",
        "f='astring'\n",
        "\n",
        "print(a>b)\n",
        "print(a<b)\n",
        "print(a==b) #double equals is the equality operator, it checks if two variables are equal\n",
        "print(a==c)\n",
        "print(a!=c) #!= is the not equals operator and evaluates to true if the two variables are not equal\n",
        "print()\n",
        "print(d>e) #more than and less than to compare string, it tells you what order they would be in a dictionary\n",
        "print(d==e)\n",
        "print(d==f)"
      ],
      "execution_count": 48,
      "outputs": [
        {
          "output_type": "stream",
          "text": [
            "False\n",
            "True\n",
            "False\n",
            "True\n",
            "\n",
            "False\n",
            "False\n",
            "True\n"
          ],
          "name": "stdout"
        }
      ]
    },
    {
      "cell_type": "code",
      "metadata": {
        "id": "dVQzLbCSRDHc",
        "colab_type": "code",
        "colab": {
          "base_uri": "https://localhost:8080/",
          "height": 50
        },
        "outputId": "8c0da8d9-7001-4361-a9cd-33e2b32c5a61"
      },
      "source": [
        "theirname = input('What is your name?') #getting input from the user\n",
        "print('your name is', theirname)"
      ],
      "execution_count": 50,
      "outputs": [
        {
          "output_type": "stream",
          "text": [
            "What is your name?bob\n",
            "your name is bob\n"
          ],
          "name": "stdout"
        }
      ]
    },
    {
      "cell_type": "code",
      "metadata": {
        "id": "kD1X0nQ_QC1p",
        "colab_type": "code",
        "colab": {
          "base_uri": "https://localhost:8080/",
          "height": 34
        },
        "outputId": "40c02535-b16c-4394-b356-c291cc4512d4"
      },
      "source": [
        "#if statements\n",
        "a = 11\n",
        "b = 10\n",
        "\n",
        "if a>b:\n",
        "    print('a is bigger')\n",
        "elif a==b:\n",
        "    print('theyre equal')\n",
        "else:\n",
        "    print('b is bigger')\n",
        "\n"
      ],
      "execution_count": 58,
      "outputs": [
        {
          "output_type": "stream",
          "text": [
            "a is bigger\n"
          ],
          "name": "stdout"
        }
      ]
    },
    {
      "cell_type": "code",
      "metadata": {
        "id": "Xzu-biAMRmug",
        "colab_type": "code",
        "colab": {
          "base_uri": "https://localhost:8080/",
          "height": 50
        },
        "outputId": "c4ab1261-4c23-4762-d14d-3acebe580b7f"
      },
      "source": [
        "##get a password input, and print something to let them know if its the correct one or incorrect one\n",
        "guess = input('What is your password?')\n",
        "real_password = \"honey\"\n",
        "if guess==real_password:\n",
        "    print('Welcome to your computer')\n",
        "else:\n",
        "    print('Im calling the cops.')"
      ],
      "execution_count": 60,
      "outputs": [
        {
          "output_type": "stream",
          "text": [
            "What is your password?honey\n",
            "Welcome to your computer\n"
          ],
          "name": "stdout"
        }
      ]
    },
    {
      "cell_type": "code",
      "metadata": {
        "id": "ZtW042TwVckY",
        "colab_type": "code",
        "colab": {
          "base_uri": "https://localhost:8080/",
          "height": 370
        },
        "outputId": "da01f4ab-0dad-4855-8e28-e37344762b08"
      },
      "source": [
        "##for loops\n",
        "for i in range(5, 11):\n",
        "    print('i is currently', i)\n",
        "print()\n",
        "mylist = [12, 'ba', a, b, 'gd', 'final thing']\n",
        "print(mylist)\n",
        "\n",
        "for item in mylist:\n",
        "    print(item)\n",
        "print()\n",
        "for i in range(len(mylist)):\n",
        "    print(mylist[i])\n"
      ],
      "execution_count": 70,
      "outputs": [
        {
          "output_type": "stream",
          "text": [
            "i is currently 5\n",
            "i is currently 6\n",
            "i is currently 7\n",
            "i is currently 8\n",
            "i is currently 9\n",
            "i is currently 10\n",
            "\n",
            "[12, 'ba', 11, 10, 'gd', 'final thing']\n",
            "12\n",
            "ba\n",
            "11\n",
            "10\n",
            "gd\n",
            "final thing\n",
            "\n",
            "12\n",
            "ba\n",
            "11\n",
            "10\n",
            "gd\n",
            "final thing\n"
          ],
          "name": "stdout"
        }
      ]
    },
    {
      "cell_type": "code",
      "metadata": {
        "id": "57wucvOrWL78",
        "colab_type": "code",
        "colab": {
          "base_uri": "https://localhost:8080/",
          "height": 101
        },
        "outputId": "8b076bef-4184-4496-842b-367f98d03a51"
      },
      "source": [
        "#while loop\n",
        "i = 0\n",
        "while i<5:\n",
        "    print(i)\n",
        "    i+=1 # this is shorthand i=i+1"
      ],
      "execution_count": 75,
      "outputs": [
        {
          "output_type": "stream",
          "text": [
            "0\n",
            "1\n",
            "2\n",
            "3\n",
            "4\n"
          ],
          "name": "stdout"
        }
      ]
    },
    {
      "cell_type": "code",
      "metadata": {
        "id": "UAJyJ_LFYrrR",
        "colab_type": "code",
        "colab": {
          "base_uri": "https://localhost:8080/",
          "height": 134
        },
        "outputId": "3003f28c-bac0-4495-82a7-874df028a2a1"
      },
      "source": [
        "#create a password entry form which stops asking once you get the right password\n",
        "mypassword = input('Give your password')\n",
        "play=True\n",
        "while play:\n",
        "    checkpassword = input('Whats the password?')\n",
        "    if checkpassword==mypassword:\n",
        "        print('Youre in')\n",
        "        play=False\n",
        "    else:\n",
        "        print('Wrong password. Try again')"
      ],
      "execution_count": 76,
      "outputs": [
        {
          "output_type": "stream",
          "text": [
            "Give your passwordsecretpassword\n",
            "Whats the password?dunno\n",
            "Wrong password. Try again\n",
            "Whats the password?attemp2\n",
            "Wrong password. Try again\n",
            "Whats the password?secretpassword\n",
            "Youre in\n"
          ],
          "name": "stdout"
        }
      ]
    },
    {
      "cell_type": "code",
      "metadata": {
        "id": "W7VDfmZHbA28",
        "colab_type": "code",
        "colab": {}
      },
      "source": [
        "##functions\n",
        "def dostuff(): #define the function\n",
        "    print('Your name is haron')\n",
        "    print(5+5)\n",
        "\n",
        "def harderfunction(name, num1, num2): #we have 3 different inputs/arguments/parameters now\n",
        "    print('Your name is', name)\n",
        "    print('Your sum is', num1+num2)"
      ],
      "execution_count": 79,
      "outputs": []
    },
    {
      "cell_type": "code",
      "metadata": {
        "id": "UwqCi7eLbmVL",
        "colab_type": "code",
        "colab": {
          "base_uri": "https://localhost:8080/",
          "height": 101
        },
        "outputId": "8bd7d0cf-168d-4c66-dc73-3b6923d45acc"
      },
      "source": [
        "dostuff()\n",
        "print()\n",
        "dostuff()"
      ],
      "execution_count": 86,
      "outputs": [
        {
          "output_type": "stream",
          "text": [
            "Your name is haron\n",
            "10\n",
            "\n",
            "Your name is haron\n",
            "10\n"
          ],
          "name": "stdout"
        }
      ]
    },
    {
      "cell_type": "code",
      "metadata": {
        "id": "WmJhPeErbsZr",
        "colab_type": "code",
        "colab": {
          "base_uri": "https://localhost:8080/",
          "height": 84
        },
        "outputId": "d8f017fb-178a-4863-c77c-84857644b484"
      },
      "source": [
        "harderfunction('haron', 15, 32)\n",
        "harderfunction('bob', 10, 6)"
      ],
      "execution_count": 82,
      "outputs": [
        {
          "output_type": "stream",
          "text": [
            "Your name is haron\n",
            "Your sum is 47\n",
            "Your name is bob\n",
            "Your sum is 16\n"
          ],
          "name": "stdout"
        }
      ]
    },
    {
      "cell_type": "code",
      "metadata": {
        "id": "HKKwPv9bb9Mv",
        "colab_type": "code",
        "colab": {
          "base_uri": "https://localhost:8080/",
          "height": 50
        },
        "outputId": "07dc5947-bfed-4eff-8bd9-00c92d47cf92"
      },
      "source": [
        "print('this', 'thifsd')\n",
        "a= 5\n",
        "b= 'some stuff'\n",
        "len(b)"
      ],
      "execution_count": 85,
      "outputs": [
        {
          "output_type": "stream",
          "text": [
            "this thifsd\n"
          ],
          "name": "stdout"
        },
        {
          "output_type": "execute_result",
          "data": {
            "text/plain": [
              "10"
            ]
          },
          "metadata": {
            "tags": []
          },
          "execution_count": 85
        }
      ]
    },
    {
      "cell_type": "code",
      "metadata": {
        "id": "iwXwD5NbcfMP",
        "colab_type": "code",
        "colab": {}
      },
      "source": [
        ""
      ],
      "execution_count": null,
      "outputs": []
    }
  ]
}