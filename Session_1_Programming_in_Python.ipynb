{
  "nbformat": 4,
  "nbformat_minor": 0,
  "metadata": {
    "colab": {
      "name": "Session 1 - Programming in Python.ipynb",
      "provenance": [],
      "collapsed_sections": [],
      "authorship_tag": "ABX9TyPHn6Q5BN4d7dZ5/i22Fv6n",
      "include_colab_link": true
    },
    "kernelspec": {
      "name": "python3",
      "display_name": "Python 3"
    }
  },
  "cells": [
    {
      "cell_type": "markdown",
      "metadata": {
        "id": "view-in-github",
        "colab_type": "text"
      },
      "source": [
        "<a href=\"https://colab.research.google.com/github/haron1100/MLSummerSchool/blob/master/Session_1_Programming_in_Python.ipynb\" target=\"_parent\"><img src=\"https://colab.research.google.com/assets/colab-badge.svg\" alt=\"Open In Colab\"/></a>"
      ]
    },
    {
      "cell_type": "code",
      "metadata": {
        "id": "aldpP8ApOQLJ",
        "colab_type": "code",
        "colab": {
          "base_uri": "https://localhost:8080/",
          "height": 34
        },
        "outputId": "d7fd8848-b036-451b-db59-0eea4de12e1a"
      },
      "source": [
        "print('Hello world')"
      ],
      "execution_count": 2,
      "outputs": [
        {
          "output_type": "stream",
          "text": [
            "Hello world\n"
          ],
          "name": "stdout"
        }
      ]
    },
    {
      "cell_type": "code",
      "metadata": {
        "id": "Syq_XeY2OuiI",
        "colab_type": "code",
        "colab": {
          "base_uri": "https://localhost:8080/",
          "height": 134
        },
        "outputId": "5d816574-546b-47cf-d4ed-b71dc409da36"
      },
      "source": [
        "#making two variables - every variable has a type\n",
        "myvariable = 10 #this variable is an integer or int\n",
        "a = 15.43 #this variable in a float, meaning it not a whole number\n",
        "print('addition', myvariable+a)\n",
        "print('subtraction', myvariable-a)\n",
        "print('multiplication', myvariable*a)\n",
        "print('division', myvariable/a)\n",
        "print('raise to a power', myvariable**3)\n",
        "print('type of myvariable', type(myvariable))\n",
        "print('type of a', type(a))"
      ],
      "execution_count": 10,
      "outputs": [
        {
          "output_type": "stream",
          "text": [
            "addition 25.43\n",
            "subtraction -5.43\n",
            "multiplication 154.3\n",
            "division 0.6480881399870383\n",
            "raise to a power 1000\n",
            "type of myvariable <class 'int'>\n",
            "type of a <class 'float'>\n"
          ],
          "name": "stdout"
        }
      ]
    },
    {
      "cell_type": "code",
      "metadata": {
        "id": "L_9oFzJQO9NT",
        "colab_type": "code",
        "colab": {
          "base_uri": "https://localhost:8080/",
          "height": 84
        },
        "outputId": "b81eb822-0758-426e-f40b-60abbc85f35c"
      },
      "source": [
        "mystring = \"this is a sentence.\" # string type also sometimes shortened to str\n",
        "secondstring = \"sentence two\"\n",
        "\n",
        "print(mystring)\n",
        "print('addition', mystring+secondstring)\n",
        "print('multiply', mystring*3)\n",
        "print('type of mystring', type(mystring))"
      ],
      "execution_count": 17,
      "outputs": [
        {
          "output_type": "stream",
          "text": [
            "this is a sentence.\n",
            "addition this is a sentence.sentence two\n",
            "multiply this is a sentence.this is a sentence.this is a sentence.\n",
            "type of mystring <class 'str'>\n"
          ],
          "name": "stdout"
        }
      ]
    },
    {
      "cell_type": "code",
      "metadata": {
        "id": "MwyU-83YRImm",
        "colab_type": "code",
        "colab": {
          "base_uri": "https://localhost:8080/",
          "height": 118
        },
        "outputId": "9d245395-a521-4594-9c00-d7d417d66d07"
      },
      "source": [
        "mylist = [4, 5, 'string thing', 7, 6, 'item', a, secondstring]\n",
        "#indexing is inclusive of the first number and exclusive of the second number\n",
        "print(mylist)\n",
        "print('first item', mylist[0]) #indexing, get the first item\n",
        "print('first 3 items', mylist[0:3]) #indexing, get the first 3 items\n",
        "print('from start to end', mylist[:])\n",
        "print('print third from last item', mylist[-3])\n",
        "print('last two items', mylist[-2:]) #indexing, get the last 2 items"
      ],
      "execution_count": 31,
      "outputs": [
        {
          "output_type": "stream",
          "text": [
            "[4, 5, 'string thing', 7, 6, 'item', 15.43, 'sentence two']\n",
            "first item 4\n",
            "first 3 items [4, 5, 'string thing']\n",
            "from start to end [4, 5, 'string thing', 7, 6, 'item', 15.43, 'sentence two']\n",
            "print third from last item item\n",
            "last two items [15.43, 'sentence two']\n"
          ],
          "name": "stdout"
        }
      ]
    },
    {
      "cell_type": "code",
      "metadata": {
        "id": "ZZRDCFLOVn4E",
        "colab_type": "code",
        "colab": {
          "base_uri": "https://localhost:8080/",
          "height": 67
        },
        "outputId": "300bde2a-a173-42ba-c246-6d9e640f1f3a"
      },
      "source": [
        "#my dictionary maps from letters to their position in the alphabet\n",
        "myd = {'a':1, 'b':2, 'c':3, 'd':4} #the letters are the keys, and the numbers are the values\n",
        "print(myd)\n",
        "print(\"get the value for the a key\", myd['a'])\n",
        "print(\"get the value for the b key\", myd['b'])"
      ],
      "execution_count": 35,
      "outputs": [
        {
          "output_type": "stream",
          "text": [
            "{'a': 1, 'b': 2, 'c': 3, 'd': 4}\n",
            "get the value for the a key 1\n",
            "get the value for the b key 2\n"
          ],
          "name": "stdout"
        }
      ]
    },
    {
      "cell_type": "code",
      "metadata": {
        "id": "zVrzdOw0XEsu",
        "colab_type": "code",
        "colab": {
          "base_uri": "https://localhost:8080/",
          "height": 50
        },
        "outputId": "c2ca3609-9d0a-4ec9-cebe-64ce381fe9fc"
      },
      "source": [
        "#boolean\n",
        "mybool = True\n",
        "secondbool = False\n",
        "print(mybool)\n",
        "print(secondbool)"
      ],
      "execution_count": 38,
      "outputs": [
        {
          "output_type": "stream",
          "text": [
            "True\n",
            "False\n"
          ],
          "name": "stdout"
        }
      ]
    },
    {
      "cell_type": "code",
      "metadata": {
        "id": "WeM2csikR_b3",
        "colab_type": "code",
        "colab": {
          "base_uri": "https://localhost:8080/",
          "height": 101
        },
        "outputId": "b2722efa-8840-4c2e-c73a-ad08df684fa0"
      },
      "source": [
        "#Operators\n",
        "x = 10\n",
        "y = 20\n",
        "z = 10\n",
        "s = 'a string'\n",
        "p = 'another string'\n",
        "q = 'a string'\n",
        "\n",
        "print('x is equal to y?', x==y)\n",
        "print('x is equal to z?', x==z)\n",
        "print('s is equal to q?', s==q)\n",
        "print('is y bigger than x?', y>x)\n",
        "print('s is equal to q?', s!=q)"
      ],
      "execution_count": 72,
      "outputs": [
        {
          "output_type": "stream",
          "text": [
            "x is equal to y? False\n",
            "x is equal to z? True\n",
            "s is equal to q? True\n",
            "is y bigger than x? True\n",
            "s is equal to q? False\n"
          ],
          "name": "stdout"
        }
      ]
    },
    {
      "cell_type": "code",
      "metadata": {
        "id": "qtry9Nf0XDZb",
        "colab_type": "code",
        "colab": {
          "base_uri": "https://localhost:8080/",
          "height": 50
        },
        "outputId": "aedf4aac-5198-4137-8051-c0aca952c223"
      },
      "source": [
        "#if statements\n",
        "\n",
        "x = 10\n",
        "y = 9\n",
        "\n",
        "if y>x:\n",
        "    print('y is bigger')\n",
        "elif y==x: #short for else if\n",
        "    print('they are equal')\n",
        "else:\n",
        "    print('y is smaller')\n",
        "\n",
        "if myd['a']==1:\n",
        "    print('this is correct')\n",
        "else:\n",
        "    print('you dont know the alphabet')"
      ],
      "execution_count": 50,
      "outputs": [
        {
          "output_type": "stream",
          "text": [
            "y is smaller\n",
            "this is correct\n"
          ],
          "name": "stdout"
        }
      ]
    },
    {
      "cell_type": "code",
      "metadata": {
        "id": "JdPdfxA-YNnr",
        "colab_type": "code",
        "colab": {
          "base_uri": "https://localhost:8080/",
          "height": 50
        },
        "outputId": "bd3ab8e1-6d03-4af6-de5c-0ba4280bf5ac"
      },
      "source": [
        "##getting input from the user\n",
        "myin = input('Write something: ')\n",
        "print('you wrote', myin)"
      ],
      "execution_count": 51,
      "outputs": [
        {
          "output_type": "stream",
          "text": [
            "Write somethingwords\n",
            "you wrote words\n"
          ],
          "name": "stdout"
        }
      ]
    },
    {
      "cell_type": "code",
      "metadata": {
        "id": "i6usErLYa7kO",
        "colab_type": "code",
        "colab": {
          "base_uri": "https://localhost:8080/",
          "height": 84
        },
        "outputId": "94413fd4-573b-4c1a-cacb-3bb9bf9e77fd"
      },
      "source": [
        "##challenge. promt the user to enter the location of a letter and check if its correct\n",
        "myd = {'a':1, 'b':2, 'c':3, 'd':4, 'e':5, 'f':6}\n",
        "\n",
        "try: ## try do do this\n",
        "    letter = input('What is your favourite letter?')\n",
        "    answer = int(input('Where is '+letter+' in the alphabet?'))\n",
        "    if answer==myd[letter]:\n",
        "        print('You know the alphabet')\n",
        "    else:\n",
        "        print('You dont know the alphabet')\n",
        "except Exception as e: ##if theres an error, do this\n",
        "    print('You got an error')\n",
        "    print(e)"
      ],
      "execution_count": 61,
      "outputs": [
        {
          "output_type": "stream",
          "text": [
            "What is your favourite letter?e\n",
            "Where is e in the alphabet?fifth\n",
            "You got an error\n",
            "invalid literal for int() with base 10: 'fifth'\n"
          ],
          "name": "stdout"
        }
      ]
    },
    {
      "cell_type": "code",
      "metadata": {
        "id": "H7RccJBcgiCR",
        "colab_type": "code",
        "colab": {
          "base_uri": "https://localhost:8080/",
          "height": 386
        },
        "outputId": "45e66ed8-5e51-4d3b-dc36-70cf534c5355"
      },
      "source": [
        "##for loops\n",
        "mylist = [6, 3, 6, 9, 2, 4, 6, 8, 2, 4]\n",
        "print('first way')\n",
        "for mynum in range(len(mylist)):\n",
        "    print(mylist[mynum])\n",
        "print('second way')\n",
        "for x in mylist:\n",
        "    print(x)"
      ],
      "execution_count": 71,
      "outputs": [
        {
          "output_type": "stream",
          "text": [
            "first way\n",
            "6\n",
            "3\n",
            "6\n",
            "9\n",
            "2\n",
            "4\n",
            "6\n",
            "8\n",
            "2\n",
            "4\n",
            "second way\n",
            "6\n",
            "3\n",
            "6\n",
            "9\n",
            "2\n",
            "4\n",
            "6\n",
            "8\n",
            "2\n",
            "4\n"
          ],
          "name": "stdout"
        }
      ]
    },
    {
      "cell_type": "code",
      "metadata": {
        "id": "2K2BCoFhkx3c",
        "colab_type": "code",
        "colab": {
          "base_uri": "https://localhost:8080/",
          "height": 67
        },
        "outputId": "a3b3b450-d36a-4c43-e895-8f56600b5002"
      },
      "source": [
        "##keep printing numbers from my list until it hits a 9\n",
        "mylist = [6, 3, 6, 9, 2, 4, 6, 8, 2, 4]\n",
        "idx=0\n",
        "while mylist[idx] != 9:\n",
        "    print(mylist[idx])\n",
        "    idx+=1"
      ],
      "execution_count": 73,
      "outputs": [
        {
          "output_type": "stream",
          "text": [
            "6\n",
            "3\n",
            "6\n"
          ],
          "name": "stdout"
        }
      ]
    },
    {
      "cell_type": "code",
      "metadata": {
        "id": "4a8TAElQbYhl",
        "colab_type": "code",
        "colab": {}
      },
      "source": [
        "##functions\n",
        "def saymyname(name): #define this function, put the inputs/arguments/parameters in brackets\n",
        "    #which does this suff\n",
        "    print('you name is', name) "
      ],
      "execution_count": 81,
      "outputs": []
    },
    {
      "cell_type": "code",
      "metadata": {
        "id": "EJwl8HECbbg_",
        "colab_type": "code",
        "colab": {
          "base_uri": "https://localhost:8080/",
          "height": 34
        },
        "outputId": "33e0e567-8823-443d-be62-61dc7014c9ed"
      },
      "source": [
        "saymyname('bob')"
      ],
      "execution_count": 82,
      "outputs": [
        {
          "output_type": "stream",
          "text": [
            "you name is bob\n"
          ],
          "name": "stdout"
        }
      ]
    },
    {
      "cell_type": "code",
      "metadata": {
        "id": "-Sm35S4elxvU",
        "colab_type": "code",
        "colab": {}
      },
      "source": [
        "def adder(num1, num2):\n",
        "    return num1+num2"
      ],
      "execution_count": 83,
      "outputs": []
    },
    {
      "cell_type": "code",
      "metadata": {
        "id": "AcH99e4PmXlg",
        "colab_type": "code",
        "colab": {
          "base_uri": "https://localhost:8080/",
          "height": 50
        },
        "outputId": "28937802-cf9f-42c9-a55c-2aeef969c4b8"
      },
      "source": [
        "mysum = adder(10, 15)\n",
        "secondsum = adder(8, 9)\n",
        "print(mysum)\n",
        "print(secondsum)"
      ],
      "execution_count": 87,
      "outputs": [
        {
          "output_type": "stream",
          "text": [
            "25\n",
            "17\n"
          ],
          "name": "stdout"
        }
      ]
    },
    {
      "cell_type": "code",
      "metadata": {
        "id": "TwRwGWLGmcqb",
        "colab_type": "code",
        "colab": {}
      },
      "source": [
        ""
      ],
      "execution_count": null,
      "outputs": []
    }
  ]
}